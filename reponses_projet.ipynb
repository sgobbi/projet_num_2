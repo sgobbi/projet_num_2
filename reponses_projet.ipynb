{
 "cells": [
  {
   "cell_type": "markdown",
   "metadata": {},
   "source": [
    "Question 1\n",
    "\n",
    "**Réponse :**\n",
    "\n",
    "**1- Interprétation des termes de la dynamique**\n",
    "- $x_1$ désigne les proies,\n",
    "- $x_2$ désigne les prédateurs,\n",
    "- $\\alpha$ désigne le taux de reproduction des proies,\n",
    "- $\\beta$ désigne le taux de disparition (mort) des proies due aux prédateurs,\n",
    "- $\\gamma$ désigne le taux de disparition des prédateurs en l'absence de proies,\n",
    "- $\\delta$ désigne le taux de reproduction des prédateurs grâce aux proies mangées.\n",
    "\n",
    "**2- Points d'équilibre**\n",
    "\n",
    "Un point d'équilibre correspond à un état où aucune des populations n'évolue. \n",
    "\n",
    "Ceci équivaut au système : $\\begin{cases}0 = x_1(\\alpha - \\beta x_2)\\\\0 = -x_2(\\gamma-\\delta x_1)\\end{cases}$\n",
    "\n",
    "Dont il résulte uniquement 2 solutions : $\\begin{cases}x_1 = 0\\\\x_2 = 0\\end{cases}$ et $\\bar{x} = \\begin{cases}x_1 = \\frac{\\gamma}{\\delta}\\\\x_2 = \\frac{\\alpha}{\\beta}\\end{cases}$\n",
    "\n",
    "Les paramètres de la dynamique étant tous strictement positifs, on a $\\bar{x} \\in \\mathbb{R}_{>0} \\times \\mathbb{R}_{>0}$.\n",
    "\n",
    "**3- Stabilité des points d'équilibre**\n",
    "\n",
    "On pose $f(x_1,x_2) = (x_1(\\alpha - \\beta x_2),- x_2(\\gamma - \\delta x_1))$. $f$ est dérivable par rapport à ses deux variables, on peut donc calculer sa jacobienne:\n",
    "\n",
    "$ J_f(x_1,x_2) = \\begin{pmatrix} \\alpha - \\beta x_2 & - \\beta x_1 \\\\ \\delta x_2 & - \\gamma + \\delta x_1 \\end{pmatrix} $\n",
    "\n",
    "Pour le premier point d'équilibre $(0,0)$ : $J_f(0,0) = \\begin{pmatrix} \\alpha & 0 \\\\ 0 & - \\gamma \\end{pmatrix}$\n",
    "\n",
    "Or, $\\alpha > 0$ et $-\\gamma < 0$ sont les valeurs propres de cette matrice, et $\\alpha$ est à partie réelle strictement positive, on en déduit que $(0,0)$ n'est pas localement (et donc encore moins globalement) stable d'après le cours.\n",
    "\n",
    "Pour le deuxième point d'équilibre $\\bar{x}$ : $J_f(\\bar{x}) = \\begin{pmatrix} 0 & - \\beta \\frac{\\gamma}{\\delta} \\\\ \\delta \\frac{\\alpha}{\\beta} & 0 \\end{pmatrix}$\n",
    "\n",
    "Son polynôme caractéristique est $p_{J_f(\\bar{x})}(x) = \\begin{vmatrix} x &  \\beta \\frac{\\gamma}{\\delta} \\\\ - \\delta \\frac{\\alpha}{\\beta} & x \\end{vmatrix} = x^2 + \\alpha\\gamma$\n",
    "\n",
    "Les racines de ce polynôme sont $\\pm i\\sqrt{\\alpha\\gamma}$. Or celles-ci sont à partie réelle nulle, on ne peut donc pas déterminer la stabilité locale ou globale de $\\bar{x}$ pour l'instant.\n",
    "\n",
    "**4- Conclusion**\n",
    "\n",
    "(0,0) et $\\bar{x} = (\\frac{\\gamma}{\\delta}, \\frac{\\alpha}{\\beta})\\in \\mathbb{R}_{>0} \\times \\mathbb{R}_{>0}$ sont les deux points déquilibre de la dynamique.\n",
    "\n",
    "(0,0) est un point d'équilibre instable.\n",
    "\n",
    "On ne peut pas conclure pour l'instant sur la stabilité du point d'équilibre $\\bar{x}$."
   ]
  },
  {
   "cell_type": "code",
   "execution_count": 1,
   "metadata": {},
   "outputs": [
    {
     "ename": "SyntaxError",
     "evalue": "invalid syntax (<ipython-input-1-e48aef584356>, line 1)",
     "output_type": "error",
     "traceback": [
      "\u001b[1;36m  File \u001b[1;32m\"<ipython-input-1-e48aef584356>\"\u001b[1;36m, line \u001b[1;32m1\u001b[0m\n\u001b[1;33m    Question 2\u001b[0m\n\u001b[1;37m             ^\u001b[0m\n\u001b[1;31mSyntaxError\u001b[0m\u001b[1;31m:\u001b[0m invalid syntax\n"
     ]
    }
   ],
   "source": [
    "Question 2\n",
    "\n",
    "X1=np.linspace(0,10,40)\n",
    "X2=np.linspace(0,10,40)\n",
    "a=1\n",
    "b=1\n",
    "c=1\n",
    "d=1\n",
    "def lv(t,X):\n",
    "    return np.array([X[0]*(a-b*X[1]),-X[1]*(c-d*X[0])])\n",
    "def lvq(X):\n",
    "    return lv(0,X)\n",
    "X,Y=np.meshgrid(X1,X2)\n",
    "#plt.scatter(X,Y,s=2)\n",
    "Vx,Vy=lvq(np.array([X,Y]))   \n",
    "xbar = [2,3]\n",
    "plt.scatter(xbar[0],xbar[1],s=1000,c='r',marker='+')\n",
    "plt.quiver(X,Y,Vx,Vy)\n",
    "plt.streamplot(X,Y,Vx,Vy)"
   ]
  },
  {
   "cell_type": "markdown",
   "metadata": {},
   "source": [
    "Question 3\n",
    "\n",
    "**Réponse :**\n",
    "\n",
    "Démontrons par l'absurde que toute solution initialisée dans $\\mathbb{R}_{>0} \\times \\mathbb{R}_{>0}$ reste dans $\\mathbb{R}_{>0} \\times \\mathbb{R}_{>0}$ sur son ensemble de définition.\n",
    "\n",
    "Soient $x_{10} = x_1(0) > 0$ et $x_{20} = x_2(0) > 0$ et $x_0 = (x_{10},x_{20}) \\in \\mathbb{R}_{>0} \\times \\mathbb{R}_{>0}$\n",
    "\n",
    "Supposons que $x_1$ ou $x_2$ s'annule (obligatoire pour que $x_1$ ou $x_2$ devienne négatif, d'après le théorème des valeurs intermédiaires).\n",
    "\n",
    "Si c'est $x_1$, alors $\\exists s \\in \\mathbb{R}$ tel que $x_1(s) = 0$ et $x_2(s) = x_{2s}$.\n",
    "\n",
    "$\\forall t>s, x_1 = 0$ et $\\dot{x_2} = -\\gamma x_2$. \n",
    "\n",
    "D'après le théorème de Cauchy-Lipschitz, ce schéma admet une unique solution maximale $x(t) \\in \\mathbb{R^2}$. Or, la fonction $g : t \\mapsto (0,x_{2s}e^{-\\gamma(t-s)})$ définie sur $\\mathbb{R}$ est solution de ce schéma. D'après le théorème précédent, elle est unique et donc x = g. En conséquence, $x_{10}=0$, ce qui est en contradiction avec notre hypothèse initiale. Donc il est absurde de supposer que $x_1$ puisse s'annuler (ou devenir négatif). On peut réaliser la même démonstration pour $x_2$.\n",
    "\n",
    "En conclusion, lorsque $x_0 \\in \\mathbb{R}_{>0} \\times \\mathbb{R}_{>0}$, $x$ reste dans $\\mathbb{R}_{>0} \\times \\mathbb{R}_{>0}$ pendant toute son évolution.\n"
   ]
  },
  {
   "cell_type": "markdown",
   "metadata": {},
   "source": [
    "Question 4\n",
    "\n",
    "**Réponse :**\n",
    "\n",
    "**1- Calcul de la dérivée**\n",
    "\n",
    "On utilise la formule de la dérivation en chaîne:\n",
    "\n",
    "$\\begin{align}\n",
    "\\frac{d}{dt}H(x(t)) & = & \\delta \\dot{x_1} - \\gamma \\frac{\\dot{x_1}}{x_1} + \\beta \\dot{x_2} - \\alpha \\frac{\\dot{x_2}}{x_2}\\\\\n",
    "& = & \\dot{x_1}(\\delta - \\frac{\\gamma}{x_1}) + \\dot{x_2}(\\beta - \\frac{\\alpha}{x_2})\\\\\n",
    "& = & x_1 (\\alpha - \\beta x_2)(\\delta - \\frac{\\gamma}{x_1}) - x_2 (\\gamma - \\delta x_1)(\\beta - \\frac{\\alpha}{x_2})\\\\\n",
    "& = & (\\delta x_1 - \\gamma)(\\alpha - \\beta x_2) - (\\alpha - \\beta x_2)(\\delta x_1 - \\gamma)\\\\ \n",
    "& = & 0\\end{align}$\n",
    "\n",
    "On obtient donc que $H(x(t))$ est une fonction constante du temps, tout au long de l'évolution du nombre de proies et de prédateurs, la quantité $H$ se conserve.\n",
    "\n",
    "**2- Domaine maximal d'existence** \n",
    "\n",
    "On sait que notre solution maximale $x(t)$ est définie sur un intervalle ouvert de la forme $]t_m^{-},t_m^{+}[$ avec $t_m^{-}$ et $t_m^{+}$ finis ou infinis. Supposons par exemple que $t_m^{-}$ est fini. Alors, d'après le théorème du domaine maximal d'existence, $\\lim_{t \\to t_m^{-}} \\| x(t) \\| = +\\infty$.\n",
    "\n",
    "Or, on sait que $H(x_1,x_2)$ est continue de $\\mathbb{R}^2$ dans $\\mathbb{R}$. De plus, H et $\\|(x_1,x_2)\\|$ se comportent de la même manière en $+\\infty$, on a lorsque $\\|(x_1,x_2)\\| \\to +\\infty$, $H(x_1,x_2) \\to + \\infty$ car $\\alpha, \\beta, \\gamma$ et $\\delta$ sont positifs. \n",
    "\n",
    "Or, la courbe de niveau $H(x(t)) = H(x_0)$ est compacte, d'où $x(t)$ est borné car évoluant dans un compact. Ainsi $\\|(x_1,x_2)\\| \\to +\\infty$ et donc $H(x_1,x_2) \\to + \\infty$ sont impossible.\n",
    "\n",
    "On en déduit donc que $t_m^{-}$ n'est pas fini, même conclusion pour $t_m^{+}$. \n",
    "\n",
    "Ainsi, toute solution initialisée sur $\\mathbb{R}_{>0} \\times \\mathbb{R}_{>0}$ est définie sur $\\mathbb{R}$."
   ]
  },
  {
   "cell_type": "markdown",
   "metadata": {},
   "source": [
    "Question 8bis\n",
    "\n",
    "**Réponse :**\n",
    "\n",
    "D'après la question 4, si $x(t)$ est solution du schéma d'équations de Lotka-Volterra, $\\forall t, H(x(t)) = H(x_0) = H_0$. \n",
    "\n",
    "De plus le schéma d'équations différentielles précédent est identique au schéma d'équations de Lotka-Volterra si $\\forall i \\in${1,2}, $u_i(x_1,x_2)(H(x_1,x_2) - H_0) = 0$. Cette condition est vérifiée $\\forall u : \\mathbb{R}^2 \\to \\mathbb{R}^2$ si et seulement si $H(x_1,x_2) = H_0 \\forall (x_1,x_2) \\in \\mathbb{R^2}$, soit si $x$ est une solution de Lotka-Volterra.\n",
    "\n",
    "Ainsi, si $H_0 = H(x(0))$, les solutions de Lotka-Volterra et du nouveau système identiques quel que soit le choix de $u$."
   ]
  },
  {
   "cell_type": "markdown",
   "metadata": {},
   "source": [
    "Question 9\n",
    "\n",
    "**Réponse :**\n",
    "\n",
    "**1- Dérivée de $H - H_0$**\n",
    "\n",
    "$ \\frac{d}{dt}(H(x(t))-H_0) \\ = \\delta \\dot{x_1} - \\gamma \\frac{\\dot{x_1}}{x_1} + \\beta \\dot{x_2} - \\alpha \\frac{\\dot{x_2}}{x_2} = \\dot{x_1}(\\delta - \\frac{\\gamma}{x_1}) + \\dot{x_2}(\\beta - \\frac{\\alpha}{x_2}) =  -[u_1(x_1,x_2)(\\delta - \\frac{\\gamma}{x_1}) + (u_2(x_1,x_2)(\\beta - \\frac{\\alpha}{x_2})]*[H(x_1,x_2) - H_0]$\n",
    "\n",
    "Or, $\\nabla H(x(t)) = \\begin{pmatrix} \\delta - \\frac{\\gamma}{x_1} \\\\ \\beta - \\frac{\\alpha}{x_2} \\end{pmatrix}$ et $\\|\\nabla H(x(t))\\|^2 = (\\delta - \\frac{\\gamma}{x_1})^2 + (\\beta - \\frac{\\alpha}{x_2})^2$.\n",
    "\n",
    "En posant $u(x_1,x_2) = k\\nabla H(x_1x_2)$ on obtient : $\\frac{d}{dt}(H(x(t))-H_0) = -k\\|\\nabla H(x(t))\\|^2(H(x(t)) - H_0)$.\n",
    "\n",
    "**2- Convergence exponentielle de $H$**\n",
    "\n",
    "Supposons que $x$ reste à une distance positive de $\\bar{x}$, alors pour tout $t$, $x(t) \\ne (\\frac{\\gamma}{\\delta},\\frac{\\alpha}{\\beta})$ donc $\\nabla H(x_1,x_2) = (\\delta - \\frac{\\gamma}{x_1},\\alpha - \\frac{\\beta}{x_2}) \\ne (0,0)$ donc $\\exists C >0$ tq $0< ||\\nabla H(x)||^2 < C$.\n",
    "\n",
    "On note : $\\theta : t \\to ||\\nabla H(x(t))||^2$. Ainsi, $H\\circ x-H_0$ est solution de l'équation différentielle $\\dot{y} = -k\\theta y$ donc \n",
    "$\\forall t$ $H(x(t)) -H_0 = Ae^{-k\\int_{t_0}^{t} \\theta(s)\\mathrm{d} s}$ où $A \\in \\mathbb{R}$.\n",
    "\n",
    "Ainsi comme $\\theta$ est positive et minorée par $C$ : $|H(x(t))-H_0|=|A|e^{-k\\int_{t_0}^{t} \\theta(s)\\mathrm{d} s} \\leq |A|e^{-kC(t-t_0)}$ \n",
    "\n",
    "En conclusion, $H$ tend exponentiellement vers $H_0$."
   ]
  },
  {
   "cell_type": "code",
   "execution_count": null,
   "metadata": {},
   "outputs": [],
   "source": []
  }
 ],
 "metadata": {
  "kernelspec": {
   "display_name": "Python 3",
   "language": "python",
   "name": "python3"
  },
  "language_info": {
   "codemirror_mode": {
    "name": "ipython",
    "version": 3
   },
   "file_extension": ".py",
   "mimetype": "text/x-python",
   "name": "python",
   "nbconvert_exporter": "python",
   "pygments_lexer": "ipython3",
   "version": "3.8.3"
  }
 },
 "nbformat": 4,
 "nbformat_minor": 4
}
