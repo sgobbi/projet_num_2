{
 "metadata": {
  "language_info": {
   "codemirror_mode": {
    "name": "ipython",
    "version": 3
   },
   "file_extension": ".py",
   "mimetype": "text/x-python",
   "name": "python",
   "nbconvert_exporter": "python",
   "pygments_lexer": "ipython3",
   "version": "3.8.3-final"
  },
  "orig_nbformat": 2,
  "kernelspec": {
   "name": "python3",
   "display_name": "Python 3"
  }
 },
 "nbformat": 4,
 "nbformat_minor": 2,
 "cells": [
  {
   "source": [
    "# Projet Numérique"
   ],
   "cell_type": "markdown",
   "metadata": {}
  },
  {
   "source": [
    "Les équations de Lotka-Volterra, ou \"modèle proie-prédateur\", sont couramment utilisées pour décrire la dynamique de systèmes biologiques dans lesquels un prédateur et sa proie interagissent dans un milieu commun.  Elles ont été proposées indépendamment par A. J. Lotka en 1925 et V. Volterra en 1926 et s'écrivent de la manière suivante :\n",
    "$$\n",
    "\\left\\{ \\begin{matrix}\n",
    "\\dot{x}_1 &= x_1(\\alpha -\\beta x_2) \\\\\n",
    "\\dot{x}_2 &= -x_2(\\gamma - \\delta x_1)\n",
    "\\end{matrix} \\right.\n",
    "$$\n",
    "où $x_1$ et $x_2$ désignent le nombre (positif) de proies et de prédateurs respectivement et $\\alpha$, $\\beta$, $\\gamma$, $\\delta$ sont des paramètres strictement positifs."
   ],
   "cell_type": "markdown",
   "metadata": {}
  },
  {
   "source": [
    "<br>"
   ],
   "cell_type": "markdown",
   "metadata": {}
  },
  {
   "source": [
    "## Question 1\n",
    "Donner une interprétation physique à chaque terme de la dynamique. \n",
    "Montrer qu'il existe deux points d'équilibre $(0,0)$ et $\\bar{x}\\in \\mathbb{R}_{> 0}\\times\\mathbb{R}_{> 0}$. Que peut-on dire de leur stabilité à ce stade ?"
   ],
   "cell_type": "markdown",
   "metadata": {}
  },
  {
   "source": [
    "<br>"
   ],
   "cell_type": "markdown",
   "metadata": {}
  },
  {
   "source": [
    "## Question 2\n",
    "À l'aide des fonctions `meshgrid` et `quiver`, visualiser graphiquement le champ de vecteurs. \n",
    "Intuiter le comportement des solutions. \n",
    "On pourra aussi utiliser `streamplot` pour visualiser le portrait de phase."
   ],
   "cell_type": "markdown",
   "metadata": {}
  },
  {
   "source": [
    "<br>"
   ],
   "cell_type": "markdown",
   "metadata": {}
  },
  {
   "source": [
    "## Question 3\n",
    "Par le théorème de Cauchy-Lipschitz, démontrer que toute solution initialisée dans  $\\mathbb{R}_{> 0}\\times\\mathbb{R}_{> 0}$ reste dans $\\mathbb{R}_{> 0}\\times\\mathbb{R}_{> 0}$ sur son ensemble de définition."
   ],
   "cell_type": "markdown",
   "metadata": {}
  },
  {
   "source": [
    "<br>"
   ],
   "cell_type": "markdown",
   "metadata": {}
  },
  {
   "source": [
    "## Question 4\n",
    "On considère la fonction\n",
    "$$\n",
    "H(x_1,x_2) = \\delta x_1 - \\gamma \\ln x_1 + \\beta x_2 - \\alpha \\ln x_2  \n",
    "$$\n",
    "définie sur $\\mathbb{R}_{> 0}\\times \\mathbb{R}_{> 0}$.\n",
    "Calculer la dérivée de $H$ le long des solutions initialisées dans $\\mathbb{R}_{> 0}\\times \\mathbb{R}_{> 0}$. En déduire que toute solution maximale initialisée dans $\\mathbb{R}_{> 0}\\times \\mathbb{R}_{> 0}$ est définie sur $\\mathbb{R}$ et que $\\bar{x}$ est stable."
   ],
   "cell_type": "markdown",
   "metadata": {}
  },
  {
   "source": [
    "<br>"
   ],
   "cell_type": "markdown",
   "metadata": {}
  },
  {
   "source": [
    "## Question 5\n",
    "Représenter les courbes de niveau de $H$. Qu'en conclue-t-on sur le comportement des solutions ?"
   ],
   "cell_type": "markdown",
   "metadata": {}
  },
  {
   "cell_type": "code",
   "execution_count": null,
   "metadata": {},
   "outputs": [],
   "source": [
    "On souhaite maintenant simuler numériquement les trajectoires."
   ]
  },
  {
   "source": [
    "<br>"
   ],
   "cell_type": "markdown",
   "metadata": {}
  },
  {
   "source": [
    "## Question 6\n",
    "Coder une fonction du type :"
   ],
   "cell_type": "markdown",
   "metadata": {}
  },
  {
   "cell_type": "code",
   "execution_count": null,
   "metadata": {},
   "outputs": [],
   "source": [
    "def solve_euler_explicit(f, x0, dt, t0, tf):\n",
    "    # ...\n",
    "    return t, x"
   ]
  },
  {
   "source": [
    "prenant en entrée une fonction $f:\\mathbb{R} \\times \\mathbb{R}^n \\to \\mathbb{R}^n$ quelconque, une condition initiale $x_0$, un pas de temps $dt$, les temps initiaux et finaux, et renvoyant le vecteur des temps $t^j$ et de la solution $x^j$ du schéma d'Euler explicite appliqué à $\\dot{x}=f(t,x)$. La tester sur une équation différentielle aux solutions exactes connues. Vérifier la convergence du schéma lorsque $dt$ tend vers 0. Comment visualiser graphiquement l'ordre de convergence ?"
   ],
   "cell_type": "markdown",
   "metadata": {}
  },
  {
   "source": [
    "<br>"
   ],
   "cell_type": "markdown",
   "metadata": {}
  },
  {
   "source": [
    "## Question 7\n",
    "Utiliser le schéma d'Euler explicite pour simuler les équations de Lotka-Volterra.\n",
    "Que constate-t-on en temps long ? Cette résolution vous semble-t-elle fidèle à la réalité ?\n",
    "On pourra tracer l'évolution de la fonction $H$."
   ],
   "cell_type": "markdown",
   "metadata": {}
  },
  {
   "source": [
    "<br>"
   ],
   "cell_type": "markdown",
   "metadata": {}
  },
  {
   "source": [
    "## Question 8\n",
    "Coder maintenant une fonction du type :"
   ],
   "cell_type": "markdown",
   "metadata": {}
  },
  {
   "cell_type": "code",
   "execution_count": null,
   "metadata": {},
   "outputs": [],
   "source": [
    "def solve_euler_implicit(f, x0, dt, t0, tf, itermax = 100):\n",
    "    # ...\n",
    "    return t, x"
   ]
  },
  {
   "source": [
    "donnant la solution d'un schéma d'Euler implicite appliqué à $\\dot{x}=f(t,x)$ selon la méthode présentée dans le cours. Vérifier de nouveau sa convergence sur des solutions connues. Que se passe-t-il cette fois-ci sur les équations de Lotka-Volterra ?"
   ],
   "cell_type": "markdown",
   "metadata": {}
  },
  {
   "source": [
    "On propose maintenant de modifier ces schémas de façon à stabiliser $H$ et assurer sa conservation le long des solutions numériques."
   ],
   "cell_type": "markdown",
   "metadata": {}
  },
  {
   "source": [
    "<br>"
   ],
   "cell_type": "markdown",
   "metadata": {}
  },
  {
   "source": [
    "## Question 8\n",
    "Expliquer pourquoi les solutions de\n",
    "$$\n",
    "\\left\\{ \\begin{matrix}\n",
    "\\dot{x}_1 &= x_1(\\alpha -\\beta x_2) - u_1(x_1,x_2) (H(x_1,x_2)-H_0) \\\\\n",
    "\\dot{x}_2 &= -x_2(\\gamma - \\delta x_1) - u_2(x_1,x_2) (H(x_1,x_2)-H_0) \n",
    "\\end{matrix} \\right.\n",
    "$$\n",
    "\n",
    "sont identiques à celles de Lotka-Volterra si $H_0 = H(x(0))$ pour tout choix de $u:\\mathbb{R}^2 \\to \\mathbb{R}^2$."
   ],
   "cell_type": "markdown",
   "metadata": {}
  },
  {
   "source": [
    "<br>"
   ],
   "cell_type": "markdown",
   "metadata": {}
  },
  {
   "source": [
    "## Question 9\n",
    "Soit $H_0\\in \\mathbb{R}$. Calculer la dérivée de $H-H_0$ le long des solutions de ce nouveau système. Montrer que l'on peut choisir $u$ tel que\n",
    "$$\n",
    "\\frac{d }{dt} (H(x(t))-H_0) = -k \\| \\nabla H(x(t)) \\|^2 (H(x(t))-H_0) \\ .\n",
    "$$ \n",
    "En déduire qu'alors $H(x(t))$ converge exponentiellement vers $H_0$ lorsque $t$ tend vers l'infini si $x$ reste à une distance strictement positive de $\\bar{x}$."
   ],
   "cell_type": "markdown",
   "metadata": {}
  },
  {
   "source": [
    "<br>"
   ],
   "cell_type": "markdown",
   "metadata": {}
  },
  {
   "source": [
    "## Question 10\n",
    "En déduire comment modifier l'implémentation du schéma d'Euler pour assurer la stabilité de $H$. Quel est le rôle de $k$ ? Peut-il être choisi arbitrairement grand ? Pourquoi ?"
   ],
   "cell_type": "markdown",
   "metadata": {}
  }
 ]
}